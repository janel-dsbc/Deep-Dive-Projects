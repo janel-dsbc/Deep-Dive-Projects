{
  "cells": [
    {
      "cell_type": "markdown",
      "metadata": {
        "id": "view-in-github",
        "colab_type": "text"
      },
      "source": [
        "<a href=\"https://colab.research.google.com/github/janel-dsbc/Deep-Dive-Projects/blob/main/FinalSQL_1_ChinookProject3a.ipynb\" target=\"_parent\"><img src=\"https://colab.research.google.com/assets/colab-badge.svg\" alt=\"Open In Colab\"/></a>"
      ]
    },
    {
      "cell_type": "markdown",
      "metadata": {
        "id": "cJG_e1vK2NMI"
      },
      "source": [
        "# Project SQL - Chinook\n"
      ]
    },
    {
      "cell_type": "markdown",
      "metadata": {
        "id": "s6jMcIbW3P5o"
      },
      "source": [
        "## Chinook data set\n",
        "\n",
        "See the lecture on SQLite3 using the Chinook data set to set up the software, database, and tables, as well as for the links to ancillary information about the data set.\n"
      ]
    },
    {
      "cell_type": "code",
      "execution_count": 44,
      "metadata": {
        "id": "HH98Q9WId3zG"
      },
      "outputs": [],
      "source": [
        "from google.colab import auth\n",
        "from google.colab import syntax\n",
        "import pandas as pd\n",
        "import matplotlib.pyplot as plt\n",
        "import sqlite3"
      ]
    },
    {
      "cell_type": "code",
      "execution_count": 45,
      "metadata": {
        "id": "PsN3lL4zb4DO"
      },
      "outputs": [],
      "source": [
        "# Install the sqlite package for Ubuntu\n",
        "# Download the Chinook sqlite database\n",
        "%%capture\n",
        "%%bash\n",
        "apt-get update\n",
        "apt-get install -y sqlite3"
      ]
    },
    {
      "cell_type": "code",
      "execution_count": 46,
      "metadata": {
        "colab": {
          "base_uri": "https://localhost:8080/"
        },
        "id": "UhFW0uTR6Jfv",
        "outputId": "d346640c-5b35-4642-a127-4998e2ae8701"
      },
      "outputs": [
        {
          "output_type": "stream",
          "name": "stdout",
          "text": [
            "Archive:  chinook.zip\n",
            "  Length      Date    Time    Name\n",
            "---------  ---------- -----   ----\n",
            "   884736  2015-11-29 10:53   chinook.db\n",
            "---------                     -------\n",
            "   884736                     1 file\n"
          ]
        }
      ],
      "source": [
        "%%bash\n",
        "[ -f chinook.zip ] ||\n",
        "  curl -s -O https://www.sqlitetutorial.net/wp-content/uploads/2018/03/chinook.zip\n",
        "unzip -l chinook.zip"
      ]
    },
    {
      "cell_type": "code",
      "execution_count": 47,
      "metadata": {
        "colab": {
          "base_uri": "https://localhost:8080/"
        },
        "id": "8Jly4-VtbVhL",
        "outputId": "ee5df2ac-a491-41fd-be51-b4dc8e875d1c"
      },
      "outputs": [
        {
          "output_type": "stream",
          "name": "stdout",
          "text": [
            "Archive:  chinook.zip\n"
          ]
        }
      ],
      "source": [
        "!unzip -u chinook.zip\n"
      ]
    },
    {
      "cell_type": "code",
      "execution_count": 48,
      "metadata": {
        "colab": {
          "base_uri": "https://localhost:8080/"
        },
        "id": "YoMl3UAkbjPQ",
        "outputId": "8e43227c-d199-41e3-f7dd-9d1b14f0776f"
      },
      "outputs": [
        {
          "output_type": "stream",
          "name": "stdout",
          "text": [
            "albums          employees       invoices        playlists     \n",
            "artists         genres          media_types     tracks        \n",
            "customers       invoice_items   playlist_track\n"
          ]
        }
      ],
      "source": [
        "# Get a list of the tables in the database\n",
        "%%script sqlite3 --column --header chinook.db\n",
        ".tables\n"
      ]
    },
    {
      "cell_type": "code",
      "execution_count": 49,
      "metadata": {
        "colab": {
          "base_uri": "https://localhost:8080/"
        },
        "collapsed": true,
        "id": "3cVlxcj2bgtF",
        "jupyter": {
          "outputs_hidden": true
        },
        "outputId": "17a21d31-4cbd-4b8e-cf02-946716520733"
      },
      "outputs": [
        {
          "output_type": "stream",
          "name": "stdout",
          "text": [
            "CREATE TABLE IF NOT EXISTS \"albums\"\r\n",
            "(\r\n",
            "    [AlbumId] INTEGER PRIMARY KEY AUTOINCREMENT NOT NULL,\r\n",
            "    [Title] NVARCHAR(160)  NOT NULL,\r\n",
            "    [ArtistId] INTEGER  NOT NULL,\r\n",
            "    FOREIGN KEY ([ArtistId]) REFERENCES \"artists\" ([ArtistId]) \r\n",
            "\t\tON DELETE NO ACTION ON UPDATE NO ACTION\r\n",
            ");\n",
            "CREATE TABLE sqlite_sequence(name,seq);\n",
            "CREATE TABLE IF NOT EXISTS \"artists\"\r\n",
            "(\r\n",
            "    [ArtistId] INTEGER PRIMARY KEY AUTOINCREMENT NOT NULL,\r\n",
            "    [Name] NVARCHAR(120)\r\n",
            ");\n",
            "CREATE TABLE IF NOT EXISTS \"customers\"\r\n",
            "(\r\n",
            "    [CustomerId] INTEGER PRIMARY KEY AUTOINCREMENT NOT NULL,\r\n",
            "    [FirstName] NVARCHAR(40)  NOT NULL,\r\n",
            "    [LastName] NVARCHAR(20)  NOT NULL,\r\n",
            "    [Company] NVARCHAR(80),\r\n",
            "    [Address] NVARCHAR(70),\r\n",
            "    [City] NVARCHAR(40),\r\n",
            "    [State] NVARCHAR(40),\r\n",
            "    [Country] NVARCHAR(40),\r\n",
            "    [PostalCode] NVARCHAR(10),\r\n",
            "    [Phone] NVARCHAR(24),\r\n",
            "    [Fax] NVARCHAR(24),\r\n",
            "    [Email] NVARCHAR(60)  NOT NULL,\r\n",
            "    [SupportRepId] INTEGER,\r\n",
            "    FOREIGN KEY ([SupportRepId]) REFERENCES \"employees\" ([EmployeeId]) \r\n",
            "\t\tON DELETE NO ACTION ON UPDATE NO ACTION\r\n",
            ");\n",
            "CREATE TABLE IF NOT EXISTS \"employees\"\r\n",
            "(\r\n",
            "    [EmployeeId] INTEGER PRIMARY KEY AUTOINCREMENT NOT NULL,\r\n",
            "    [LastName] NVARCHAR(20)  NOT NULL,\r\n",
            "    [FirstName] NVARCHAR(20)  NOT NULL,\r\n",
            "    [Title] NVARCHAR(30),\r\n",
            "    [ReportsTo] INTEGER,\r\n",
            "    [BirthDate] DATETIME,\r\n",
            "    [HireDate] DATETIME,\r\n",
            "    [Address] NVARCHAR(70),\r\n",
            "    [City] NVARCHAR(40),\r\n",
            "    [State] NVARCHAR(40),\r\n",
            "    [Country] NVARCHAR(40),\r\n",
            "    [PostalCode] NVARCHAR(10),\r\n",
            "    [Phone] NVARCHAR(24),\r\n",
            "    [Fax] NVARCHAR(24),\r\n",
            "    [Email] NVARCHAR(60),\r\n",
            "    FOREIGN KEY ([ReportsTo]) REFERENCES \"employees\" ([EmployeeId]) \r\n",
            "\t\tON DELETE NO ACTION ON UPDATE NO ACTION\r\n",
            ");\n",
            "CREATE TABLE IF NOT EXISTS \"genres\"\r\n",
            "(\r\n",
            "    [GenreId] INTEGER PRIMARY KEY AUTOINCREMENT NOT NULL,\r\n",
            "    [Name] NVARCHAR(120)\r\n",
            ");\n",
            "CREATE TABLE IF NOT EXISTS \"invoices\"\r\n",
            "(\r\n",
            "    [InvoiceId] INTEGER PRIMARY KEY AUTOINCREMENT NOT NULL,\r\n",
            "    [CustomerId] INTEGER  NOT NULL,\r\n",
            "    [InvoiceDate] DATETIME  NOT NULL,\r\n",
            "    [BillingAddress] NVARCHAR(70),\r\n",
            "    [BillingCity] NVARCHAR(40),\r\n",
            "    [BillingState] NVARCHAR(40),\r\n",
            "    [BillingCountry] NVARCHAR(40),\r\n",
            "    [BillingPostalCode] NVARCHAR(10),\r\n",
            "    [Total] NUMERIC(10,2)  NOT NULL,\r\n",
            "    FOREIGN KEY ([CustomerId]) REFERENCES \"customers\" ([CustomerId]) \r\n",
            "\t\tON DELETE NO ACTION ON UPDATE NO ACTION\r\n",
            ");\n",
            "CREATE TABLE IF NOT EXISTS \"invoice_items\"\r\n",
            "(\r\n",
            "    [InvoiceLineId] INTEGER PRIMARY KEY AUTOINCREMENT NOT NULL,\r\n",
            "    [InvoiceId] INTEGER  NOT NULL,\r\n",
            "    [TrackId] INTEGER  NOT NULL,\r\n",
            "    [UnitPrice] NUMERIC(10,2)  NOT NULL,\r\n",
            "    [Quantity] INTEGER  NOT NULL,\r\n",
            "    FOREIGN KEY ([InvoiceId]) REFERENCES \"invoices\" ([InvoiceId]) \r\n",
            "\t\tON DELETE NO ACTION ON UPDATE NO ACTION,\r\n",
            "    FOREIGN KEY ([TrackId]) REFERENCES \"tracks\" ([TrackId]) \r\n",
            "\t\tON DELETE NO ACTION ON UPDATE NO ACTION\r\n",
            ");\n",
            "CREATE TABLE IF NOT EXISTS \"media_types\"\r\n",
            "(\r\n",
            "    [MediaTypeId] INTEGER PRIMARY KEY AUTOINCREMENT NOT NULL,\r\n",
            "    [Name] NVARCHAR(120)\r\n",
            ");\n",
            "CREATE TABLE IF NOT EXISTS \"playlists\"\r\n",
            "(\r\n",
            "    [PlaylistId] INTEGER PRIMARY KEY AUTOINCREMENT NOT NULL,\r\n",
            "    [Name] NVARCHAR(120)\r\n",
            ");\n",
            "CREATE TABLE IF NOT EXISTS \"playlist_track\"\r\n",
            "(\r\n",
            "    [PlaylistId] INTEGER  NOT NULL,\r\n",
            "    [TrackId] INTEGER  NOT NULL,\r\n",
            "    CONSTRAINT [PK_PlaylistTrack] PRIMARY KEY  ([PlaylistId], [TrackId]),\r\n",
            "    FOREIGN KEY ([PlaylistId]) REFERENCES \"playlists\" ([PlaylistId]) \r\n",
            "\t\tON DELETE NO ACTION ON UPDATE NO ACTION,\r\n",
            "    FOREIGN KEY ([TrackId]) REFERENCES \"tracks\" ([TrackId]) \r\n",
            "\t\tON DELETE NO ACTION ON UPDATE NO ACTION\r\n",
            ");\n",
            "CREATE TABLE IF NOT EXISTS \"tracks\"\r\n",
            "(\r\n",
            "    [TrackId] INTEGER PRIMARY KEY AUTOINCREMENT NOT NULL,\r\n",
            "    [Name] NVARCHAR(200)  NOT NULL,\r\n",
            "    [AlbumId] INTEGER,\r\n",
            "    [MediaTypeId] INTEGER  NOT NULL,\r\n",
            "    [GenreId] INTEGER,\r\n",
            "    [Composer] NVARCHAR(220),\r\n",
            "    [Milliseconds] INTEGER  NOT NULL,\r\n",
            "    [Bytes] INTEGER,\r\n",
            "    [UnitPrice] NUMERIC(10,2)  NOT NULL,\r\n",
            "    FOREIGN KEY ([AlbumId]) REFERENCES \"albums\" ([AlbumId]) \r\n",
            "\t\tON DELETE NO ACTION ON UPDATE NO ACTION,\r\n",
            "    FOREIGN KEY ([GenreId]) REFERENCES \"genres\" ([GenreId]) \r\n",
            "\t\tON DELETE NO ACTION ON UPDATE NO ACTION,\r\n",
            "    FOREIGN KEY ([MediaTypeId]) REFERENCES \"media_types\" ([MediaTypeId]) \r\n",
            "\t\tON DELETE NO ACTION ON UPDATE NO ACTION\r\n",
            ");\n",
            "CREATE INDEX [IFK_AlbumArtistId] ON \"albums\" ([ArtistId]);\n",
            "CREATE INDEX [IFK_CustomerSupportRepId] ON \"customers\" ([SupportRepId]);\n",
            "CREATE INDEX [IFK_EmployeeReportsTo] ON \"employees\" ([ReportsTo]);\n",
            "CREATE INDEX [IFK_InvoiceCustomerId] ON \"invoices\" ([CustomerId]);\n",
            "CREATE INDEX [IFK_InvoiceLineInvoiceId] ON \"invoice_items\" ([InvoiceId]);\n",
            "CREATE INDEX [IFK_InvoiceLineTrackId] ON \"invoice_items\" ([TrackId]);\n",
            "CREATE INDEX [IFK_PlaylistTrackTrackId] ON \"playlist_track\" ([TrackId]);\n",
            "CREATE INDEX [IFK_TrackAlbumId] ON \"tracks\" ([AlbumId]);\n",
            "CREATE INDEX [IFK_TrackGenreId] ON \"tracks\" ([GenreId]);\n",
            "CREATE INDEX [IFK_TrackMediaTypeId] ON \"tracks\" ([MediaTypeId]);\n",
            "CREATE TABLE sqlite_stat1(tbl,idx,stat);\n"
          ]
        }
      ],
      "source": [
        "# Show the schema for the entire database\n",
        "%%script sqlite3 --column --header chinook.db\n",
        ".schema\n"
      ]
    },
    {
      "cell_type": "markdown",
      "metadata": {
        "id": "OA9Mp38s52x2"
      },
      "source": [
        "## Come up with questions about your data\n",
        "Have a look at the Entity-Relation ( ER ) diagram to help come up with questions.\n",
        "\n",
        "* What sort of information is in this dataset?\n",
        "* How many records are there?\n",
        "* How many different countries (states, counties, cities, etc) have records in this data set?\n",
        "\n",
        "\n",
        "If you are stuck, here are some ideas for questions:\n",
        "- https://github.com/LucasMcL/15-sql_queries_02-chinook/blob/master/README.md\n",
        "- [Using the R language]( https://rpubs.com/enext777/636199 )\n",
        "- [Search Google]( https://www.google.com/search?q=chinook+database+questions )\n",
        "\n"
      ]
    },
    {
      "cell_type": "markdown",
      "metadata": {
        "id": "TqvaIfog546s"
      },
      "source": [
        "## Use SQL queries to pull specific information\n",
        "\n",
        "Do NOT pull all the data and then filter using DataFrame methods etc. Make sure and use AT LEAST 13 of the 15 SQL options listed below. (You may have to get creative and come up with more questions to ask/answer.)\n",
        "\n",
        "* Basic Queries\n",
        "  * *SELECT* (with * and with column names)\n",
        "  * *WHERE*\n",
        "  * *AND*\n",
        "  * *OR*\n",
        "  * *LIKE* (with % or _ wildcard)\n",
        "  * *BETWEEN*\n",
        "  * *LIMIT*\n",
        "\n",
        "* Sorting and Grouping\n",
        "  * *ORDER BY*\n",
        "  * *DISTINCT*\n",
        "  * *GROUP BY*\n",
        "\n",
        "* Aggregates\n",
        "  * *MAX*\n",
        "  * *MIN*\n",
        "  * *SUM*\n",
        "  * *AVG*\n",
        "  * *COUNT*\n",
        "\n"
      ]
    },
    {
      "cell_type": "code",
      "execution_count": 50,
      "metadata": {
        "colab": {
          "base_uri": "https://localhost:8080/"
        },
        "id": "NMrvo0jE6LL9",
        "outputId": "b2791cc5-8353-4f59-eddf-632f5442ed04"
      },
      "outputs": [
        {
          "output_type": "stream",
          "name": "stdout",
          "text": [
            "CustomerId  FirstName  LastName     Company                                           Address                          City                 State  Country         PostalCode  Phone               Fax                 Email                     SupportRepId\n",
            "----------  ---------  -----------  ------------------------------------------------  -------------------------------  -------------------  -----  --------------  ----------  ------------------  ------------------  ------------------------  ------------\n",
            "1           Luís       Gonçalves    Embraer - Empresa Brasileira de Aeronáutica S.A.  Av. Brigadeiro Faria Lima, 2170  São José dos Campos  SP     Brazil          12227-000   +55 (12) 3923-5555  +55 (12) 3923-5566  luisg@embraer.com.br      3           \n",
            "2           Leonie     Köhler                                                         Theodor-Heuss-Straße 34          Stuttgart                   Germany         70174       +49 0711 2842222                        leonekohler@surfeu.de     5           \n",
            "3           François   Tremblay                                                       1498 rue Bélanger                Montréal             QC     Canada          H2G 1A7     +1 (514) 721-4711                       ftremblay@gmail.com       3           \n",
            "4           Bjørn      Hansen                                                         Ullevålsveien 14                 Oslo                        Norway          0171        +47 22 44 22 22                         bjorn.hansen@yahoo.no     4           \n",
            "5           František  Wichterlová  JetBrains s.r.o.                                  Klanova 9/506                    Prague                      Czech Republic  14700       +420 2 4172 5555    +420 2 4172 5555    frantisekw@jetbrains.com  4           \n"
          ]
        }
      ],
      "source": [
        "%%script sqlite3 --column --header chinook.db\n",
        "SELECT *\n",
        "FROM customers\n",
        "LIMIT 5"
      ]
    },
    {
      "cell_type": "code",
      "execution_count": 51,
      "metadata": {
        "colab": {
          "base_uri": "https://localhost:8080/"
        },
        "id": "vUuU1UKrQnwS",
        "outputId": "4e564530-ba04-4baf-d88b-ef9a5151a777"
      },
      "outputs": [
        {
          "output_type": "stream",
          "name": "stdout",
          "text": [
            "MIN(supportrepid)\n",
            "-----------------\n",
            "3                \n"
          ]
        }
      ],
      "source": [
        "%%script sqlite3 --column --header chinook.db\n",
        "SELECT MIN(supportrepid)\n",
        "FROM customers\n"
      ]
    },
    {
      "cell_type": "code",
      "execution_count": 52,
      "metadata": {
        "colab": {
          "base_uri": "https://localhost:8080/"
        },
        "id": "UU-zXQDkQ5OQ",
        "outputId": "8d021053-6450-4473-9558-f993b5e6fec5"
      },
      "outputs": [
        {
          "output_type": "stream",
          "name": "stdout",
          "text": [
            "MAX(supportrepid)\n",
            "-----------------\n",
            "5                \n"
          ]
        }
      ],
      "source": [
        "%%script sqlite3 --column --header chinook.db\n",
        "SELECT MAX(supportrepid)\n",
        "FROM customers"
      ]
    },
    {
      "cell_type": "markdown",
      "metadata": {
        "id": "Xvqj7j3zh8-h"
      },
      "source": [
        "Provide a query showing Customers (just their full names, customer ID and country) who are not in the US."
      ]
    },
    {
      "cell_type": "code",
      "execution_count": 53,
      "metadata": {
        "colab": {
          "base_uri": "https://localhost:8080/"
        },
        "collapsed": true,
        "id": "BVC8hSB0hOzb",
        "jupyter": {
          "outputs_hidden": true
        },
        "outputId": "4235b62d-34e7-4bcd-9061-881914b8346d"
      },
      "outputs": [
        {
          "output_type": "stream",
          "name": "stdout",
          "text": [
            "CustomerId  FirstName  LastName      Country       \n",
            "----------  ---------  ------------  --------------\n",
            "1           Luís       Gonçalves     Brazil        \n",
            "2           Leonie     Köhler        Germany       \n",
            "3           François   Tremblay      Canada        \n",
            "4           Bjørn      Hansen        Norway        \n",
            "5           František  Wichterlová   Czech Republic\n",
            "6           Helena     Holý          Czech Republic\n",
            "7           Astrid     Gruber        Austria       \n",
            "8           Daan       Peeters       Belgium       \n",
            "9           Kara       Nielsen       Denmark       \n",
            "10          Eduardo    Martins       Brazil        \n",
            "11          Alexandre  Rocha         Brazil        \n",
            "12          Roberto    Almeida       Brazil        \n",
            "13          Fernanda   Ramos         Brazil        \n",
            "14          Mark       Philips       Canada        \n",
            "15          Jennifer   Peterson      Canada        \n",
            "29          Robert     Brown         Canada        \n",
            "30          Edward     Francis       Canada        \n",
            "31          Martha     Silk          Canada        \n",
            "32          Aaron      Mitchell      Canada        \n",
            "33          Ellie      Sullivan      Canada        \n",
            "34          João       Fernandes     Portugal      \n",
            "35          Madalena   Sampaio       Portugal      \n",
            "36          Hannah     Schneider     Germany       \n",
            "37          Fynn       Zimmermann    Germany       \n",
            "38          Niklas     Schröder      Germany       \n",
            "39          Camille    Bernard       France        \n",
            "40          Dominique  Lefebvre      France        \n",
            "41          Marc       Dubois        France        \n",
            "42          Wyatt      Girard        France        \n",
            "43          Isabelle   Mercier       France        \n",
            "44          Terhi      Hämäläinen    Finland       \n",
            "45          Ladislav   Kovács        Hungary       \n",
            "46          Hugh       O'Reilly      Ireland       \n",
            "47          Lucas      Mancini       Italy         \n",
            "48          Johannes   Van der Berg  Netherlands   \n",
            "49          Stanisław  Wójcik        Poland        \n",
            "50          Enrique    Muñoz         Spain         \n",
            "51          Joakim     Johansson     Sweden        \n",
            "52          Emma       Jones         United Kingdom\n",
            "53          Phil       Hughes        United Kingdom\n",
            "54          Steve      Murray        United Kingdom\n",
            "55          Mark       Taylor        Australia     \n",
            "56          Diego      Gutiérrez     Argentina     \n",
            "57          Luis       Rojas         Chile         \n",
            "58          Manoj      Pareek        India         \n",
            "59          Puja       Srivastava    India         \n"
          ]
        }
      ],
      "source": [
        "%%script sqlite3 --column --header chinook.db\n",
        "SELECT CustomerId, FirstName, LastName, Country\n",
        "FROM customers\n",
        "WHERE Country != 'USA'"
      ]
    },
    {
      "cell_type": "markdown",
      "metadata": {
        "id": "iIIb_TB9iATn"
      },
      "source": [
        "Provide a query only showing the Customers from Brazil."
      ]
    },
    {
      "cell_type": "code",
      "execution_count": 54,
      "metadata": {
        "colab": {
          "base_uri": "https://localhost:8080/"
        },
        "id": "nZ8TkMlLh_3C",
        "outputId": "23e0d480-332a-4c4a-f7e6-349363622de1"
      },
      "outputs": [
        {
          "output_type": "stream",
          "name": "stdout",
          "text": [
            "CustomerId  FirstName  LastName   Company                                           Address                          City                 State  Country  PostalCode  Phone               Fax                 Email                          SupportRepId\n",
            "----------  ---------  ---------  ------------------------------------------------  -------------------------------  -------------------  -----  -------  ----------  ------------------  ------------------  -----------------------------  ------------\n",
            "1           Luís       Gonçalves  Embraer - Empresa Brasileira de Aeronáutica S.A.  Av. Brigadeiro Faria Lima, 2170  São José dos Campos  SP     Brazil   12227-000   +55 (12) 3923-5555  +55 (12) 3923-5566  luisg@embraer.com.br           3           \n",
            "10          Eduardo    Martins    Woodstock Discos                                  Rua Dr. Falcão Filho, 155        São Paulo            SP     Brazil   01007-010   +55 (11) 3033-5446  +55 (11) 3033-4564  eduardo@woodstock.com.br       4           \n",
            "11          Alexandre  Rocha      Banco do Brasil S.A.                              Av. Paulista, 2022               São Paulo            SP     Brazil   01310-200   +55 (11) 3055-3278  +55 (11) 3055-8131  alero@uol.com.br               5           \n",
            "12          Roberto    Almeida    Riotur                                            Praça Pio X, 119                 Rio de Janeiro       RJ     Brazil   20040-020   +55 (21) 2271-7000  +55 (21) 2271-7070  roberto.almeida@riotur.gov.br  3           \n",
            "13          Fernanda   Ramos                                                        Qe 7 Bloco G                     Brasília             DF     Brazil   71020-677   +55 (61) 3363-5547  +55 (61) 3363-7855  fernadaramos4@uol.com.br       4           \n"
          ]
        }
      ],
      "source": [
        "%%script sqlite3 --column --header chinook.db\n",
        "SELECT *\n",
        "FROM customers\n",
        "where Country = 'Brazil'"
      ]
    },
    {
      "cell_type": "markdown",
      "metadata": {
        "id": "TKgs1gDxiRkW"
      },
      "source": [
        "Provide a query showing the Invoices of customers who are from Brazil. The resultant table should show the customer's full name, Invoice ID, Date of the invoice and billing country."
      ]
    },
    {
      "cell_type": "code",
      "execution_count": 55,
      "metadata": {
        "colab": {
          "base_uri": "https://localhost:8080/"
        },
        "id": "LmPu58_FitP_",
        "outputId": "ae522f45-e150-4526-8f2d-3f1c67b775cd"
      },
      "outputs": [
        {
          "output_type": "stream",
          "name": "stdout",
          "text": [
            "InvoiceId  CustomerId  InvoiceDate          BillingAddress           BillingCity  BillingState  BillingCountry  BillingPostalCode  Total\n",
            "---------  ----------  -------------------  -----------------------  -----------  ------------  --------------  -----------------  -----\n",
            "1          2           2009-01-01 00:00:00  Theodor-Heuss-Straße 34  Stuttgart                  Germany         70174              1.98 \n",
            "2          4           2009-01-02 00:00:00  Ullevålsveien 14         Oslo                       Norway          0171               3.96 \n",
            "3          8           2009-01-03 00:00:00  Grétrystraat 63          Brussels                   Belgium         1000               5.94 \n",
            "4          14          2009-01-06 00:00:00  8210 111 ST NW           Edmonton     AB            Canada          T6G 2C7            8.91 \n",
            "5          23          2009-01-11 00:00:00  69 Salem Street          Boston       MA            USA             2113               13.86\n"
          ]
        }
      ],
      "source": [
        "%%script sqlite3 --column --header chinook.db\n",
        "SELECT *\n",
        "FROM INVOICES\n",
        "LIMIT 5"
      ]
    },
    {
      "cell_type": "code",
      "execution_count": 56,
      "metadata": {
        "colab": {
          "base_uri": "https://localhost:8080/"
        },
        "id": "GA6p_XIYSmP_",
        "outputId": "089e3909-23f8-4dd7-92d6-93d3a617a7c8"
      },
      "outputs": [
        {
          "output_type": "stream",
          "name": "stdout",
          "text": [
            "SUM(TOTAL)\n",
            "----------\n",
            "2328.6    \n"
          ]
        }
      ],
      "source": [
        "%%script sqlite3 --column --header chinook.db\n",
        "SELECT SUM(TOTAL)\n",
        "FROM INVOICES"
      ]
    },
    {
      "cell_type": "code",
      "execution_count": 57,
      "metadata": {
        "colab": {
          "base_uri": "https://localhost:8080/"
        },
        "id": "RpqGwZiNSa9r",
        "outputId": "0791834c-ff3f-414c-b548-9041ca2bbb8a"
      },
      "outputs": [
        {
          "output_type": "stream",
          "name": "stdout",
          "text": [
            "AVG(TOTAL)      \n",
            "----------------\n",
            "5.65194174757282\n"
          ]
        }
      ],
      "source": [
        "%%script sqlite3 --column --header chinook.db\n",
        "SELECT AVG(TOTAL)\n",
        "FROM invoices"
      ]
    },
    {
      "cell_type": "code",
      "execution_count": 58,
      "metadata": {
        "colab": {
          "base_uri": "https://localhost:8080/"
        },
        "id": "pvDzWYIdiUu9",
        "outputId": "45521df9-d6ff-45e3-c76d-9b61d538b7d7"
      },
      "outputs": [
        {
          "output_type": "stream",
          "name": "stdout",
          "text": [
            "CustomerId  InvoiceId  InvoiceDate          BillingCountry\n",
            "----------  ---------  -------------------  --------------\n",
            "1           98         2010-03-11 00:00:00  Brazil        \n",
            "1           121        2010-06-13 00:00:00  Brazil        \n",
            "1           143        2010-09-15 00:00:00  Brazil        \n",
            "1           195        2011-05-06 00:00:00  Brazil        \n",
            "1           316        2012-10-27 00:00:00  Brazil        \n",
            "1           327        2012-12-07 00:00:00  Brazil        \n",
            "1           382        2013-08-07 00:00:00  Brazil        \n",
            "10          25         2009-04-09 00:00:00  Brazil        \n",
            "10          154        2010-11-14 00:00:00  Brazil        \n",
            "10          177        2011-02-16 00:00:00  Brazil        \n",
            "10          199        2011-05-21 00:00:00  Brazil        \n",
            "10          251        2012-01-09 00:00:00  Brazil        \n",
            "10          372        2013-07-02 00:00:00  Brazil        \n",
            "10          383        2013-08-12 00:00:00  Brazil        \n",
            "11          57         2009-09-06 00:00:00  Brazil        \n",
            "11          68         2009-10-17 00:00:00  Brazil        \n",
            "11          123        2010-06-17 00:00:00  Brazil        \n",
            "11          252        2012-01-22 00:00:00  Brazil        \n",
            "11          275        2012-04-25 00:00:00  Brazil        \n",
            "11          297        2012-07-28 00:00:00  Brazil        \n",
            "11          349        2013-03-18 00:00:00  Brazil        \n",
            "12          34         2009-05-23 00:00:00  Brazil        \n",
            "12          155        2010-11-14 00:00:00  Brazil        \n",
            "12          166        2010-12-25 00:00:00  Brazil        \n",
            "12          221        2011-08-25 00:00:00  Brazil        \n",
            "12          350        2013-03-31 00:00:00  Brazil        \n",
            "12          373        2013-07-03 00:00:00  Brazil        \n",
            "12          395        2013-10-05 00:00:00  Brazil        \n",
            "13          35         2009-06-05 00:00:00  Brazil        \n",
            "13          58         2009-09-07 00:00:00  Brazil        \n",
            "13          80         2009-12-10 00:00:00  Brazil        \n",
            "13          132        2010-07-31 00:00:00  Brazil        \n",
            "13          253        2012-01-22 00:00:00  Brazil        \n",
            "13          264        2012-03-03 00:00:00  Brazil        \n",
            "13          319        2012-11-01 00:00:00  Brazil        \n"
          ]
        }
      ],
      "source": [
        "%%script sqlite3 --column --header chinook.db\n",
        "SELECT CustomerId, InvoiceId, InvoiceDate, BillingCountry\n",
        "FROM invoices\n",
        "WHERE BillingCountry = 'Brazil'\n",
        "ORDER BY CustomerId"
      ]
    },
    {
      "cell_type": "code",
      "execution_count": 59,
      "metadata": {
        "colab": {
          "base_uri": "https://localhost:8080/"
        },
        "collapsed": true,
        "id": "7Stv0UA-Rt0_",
        "jupyter": {
          "outputs_hidden": true
        },
        "outputId": "d67556f5-70da-4e48-8f6b-5f714e082639"
      },
      "outputs": [
        {
          "output_type": "stream",
          "name": "stdout",
          "text": [
            "CustomerId  InvoiceId  InvoiceDate          BillingCountry\n",
            "----------  ---------  -------------------  --------------\n",
            "1           98         2010-03-11 00:00:00  Brazil        \n",
            "1           121        2010-06-13 00:00:00  Brazil        \n",
            "1           143        2010-09-15 00:00:00  Brazil        \n",
            "1           195        2011-05-06 00:00:00  Brazil        \n",
            "1           316        2012-10-27 00:00:00  Brazil        \n",
            "1           327        2012-12-07 00:00:00  Brazil        \n",
            "1           382        2013-08-07 00:00:00  Brazil        \n",
            "2           1          2009-01-01 00:00:00  Germany       \n",
            "2           12         2009-02-11 00:00:00  Germany       \n",
            "2           67         2009-10-12 00:00:00  Germany       \n",
            "2           196        2011-05-19 00:00:00  Germany       \n",
            "2           219        2011-08-21 00:00:00  Germany       \n",
            "2           241        2011-11-23 00:00:00  Germany       \n",
            "2           293        2012-07-13 00:00:00  Germany       \n",
            "10          25         2009-04-09 00:00:00  Brazil        \n",
            "10          154        2010-11-14 00:00:00  Brazil        \n",
            "10          177        2011-02-16 00:00:00  Brazil        \n",
            "10          199        2011-05-21 00:00:00  Brazil        \n",
            "10          251        2012-01-09 00:00:00  Brazil        \n",
            "10          372        2013-07-02 00:00:00  Brazil        \n",
            "10          383        2013-08-12 00:00:00  Brazil        \n",
            "11          57         2009-09-06 00:00:00  Brazil        \n",
            "11          68         2009-10-17 00:00:00  Brazil        \n",
            "11          123        2010-06-17 00:00:00  Brazil        \n",
            "11          252        2012-01-22 00:00:00  Brazil        \n",
            "11          275        2012-04-25 00:00:00  Brazil        \n",
            "11          297        2012-07-28 00:00:00  Brazil        \n",
            "11          349        2013-03-18 00:00:00  Brazil        \n",
            "12          34         2009-05-23 00:00:00  Brazil        \n",
            "12          155        2010-11-14 00:00:00  Brazil        \n",
            "12          166        2010-12-25 00:00:00  Brazil        \n",
            "12          221        2011-08-25 00:00:00  Brazil        \n",
            "12          350        2013-03-31 00:00:00  Brazil        \n",
            "12          373        2013-07-03 00:00:00  Brazil        \n",
            "12          395        2013-10-05 00:00:00  Brazil        \n",
            "13          35         2009-06-05 00:00:00  Brazil        \n",
            "13          58         2009-09-07 00:00:00  Brazil        \n",
            "13          80         2009-12-10 00:00:00  Brazil        \n",
            "13          132        2010-07-31 00:00:00  Brazil        \n",
            "13          253        2012-01-22 00:00:00  Brazil        \n",
            "13          264        2012-03-03 00:00:00  Brazil        \n",
            "13          319        2012-11-01 00:00:00  Brazil        \n",
            "36          29         2009-05-05 00:00:00  Germany       \n",
            "36          40         2009-06-15 00:00:00  Germany       \n",
            "36          95         2010-02-13 00:00:00  Germany       \n",
            "36          224        2011-09-20 00:00:00  Germany       \n",
            "36          247        2011-12-23 00:00:00  Germany       \n",
            "36          269        2012-03-26 00:00:00  Germany       \n",
            "36          321        2012-11-14 00:00:00  Germany       \n",
            "37          6          2009-01-19 00:00:00  Germany       \n",
            "37          127        2010-07-13 00:00:00  Germany       \n",
            "37          138        2010-08-23 00:00:00  Germany       \n",
            "37          193        2011-04-23 00:00:00  Germany       \n",
            "37          322        2012-11-27 00:00:00  Germany       \n",
            "37          345        2013-03-01 00:00:00  Germany       \n",
            "37          367        2013-06-03 00:00:00  Germany       \n",
            "38          7          2009-02-01 00:00:00  Germany       \n",
            "38          30         2009-05-06 00:00:00  Germany       \n",
            "38          52         2009-08-08 00:00:00  Germany       \n",
            "38          104        2010-03-29 00:00:00  Germany       \n",
            "38          225        2011-09-20 00:00:00  Germany       \n",
            "38          236        2011-10-31 00:00:00  Germany       \n",
            "38          291        2012-06-30 00:00:00  Germany       \n"
          ]
        }
      ],
      "source": [
        "%%script sqlite3 --column --header chinook.db\n",
        "SELECT CustomerId, InvoiceId, InvoiceDate, BillingCountry\n",
        "FROM invoices\n",
        "WHERE BillingCountry = 'Brazil' OR BillingCountry = 'Germany'\n",
        "ORDER BY CustomerId"
      ]
    },
    {
      "cell_type": "markdown",
      "metadata": {
        "id": "ORftjOJ4jkXs"
      },
      "source": [
        "Provide a query showing only the Employees who are Sales Agents."
      ]
    },
    {
      "cell_type": "code",
      "execution_count": 60,
      "metadata": {
        "colab": {
          "base_uri": "https://localhost:8080/"
        },
        "id": "noNxDFQwjsd4",
        "outputId": "269272bd-4419-419e-95df-cf79def47e0d"
      },
      "outputs": [
        {
          "output_type": "stream",
          "name": "stdout",
          "text": [
            "EmployeeId  LastName  FirstName  Title                ReportsTo  BirthDate            HireDate             Address              City      State  Country  PostalCode  Phone              Fax                Email                   \n",
            "----------  --------  ---------  -------------------  ---------  -------------------  -------------------  -------------------  --------  -----  -------  ----------  -----------------  -----------------  ------------------------\n",
            "1           Adams     Andrew     General Manager                 1962-02-18 00:00:00  2002-08-14 00:00:00  11120 Jasper Ave NW  Edmonton  AB     Canada   T5K 2N1     +1 (780) 428-9482  +1 (780) 428-3457  andrew@chinookcorp.com  \n",
            "2           Edwards   Nancy      Sales Manager        1          1958-12-08 00:00:00  2002-05-01 00:00:00  825 8 Ave SW         Calgary   AB     Canada   T2P 2T3     +1 (403) 262-3443  +1 (403) 262-3322  nancy@chinookcorp.com   \n",
            "3           Peacock   Jane       Sales Support Agent  2          1973-08-29 00:00:00  2002-04-01 00:00:00  1111 6 Ave SW        Calgary   AB     Canada   T2P 5M5     +1 (403) 262-3443  +1 (403) 262-6712  jane@chinookcorp.com    \n",
            "4           Park      Margaret   Sales Support Agent  2          1947-09-19 00:00:00  2003-05-03 00:00:00  683 10 Street SW     Calgary   AB     Canada   T2P 5G3     +1 (403) 263-4423  +1 (403) 263-4289  margaret@chinookcorp.com\n",
            "5           Johnson   Steve      Sales Support Agent  2          1965-03-03 00:00:00  2003-10-17 00:00:00  7727B 41 Ave         Calgary   AB     Canada   T3B 1Y7     1 (780) 836-9987   1 (780) 836-9543   steve@chinookcorp.com   \n"
          ]
        }
      ],
      "source": [
        "%%script sqlite3 --column --header chinook.db\n",
        "SELECT *\n",
        "FROM employees\n",
        "LIMIT 5"
      ]
    },
    {
      "cell_type": "code",
      "execution_count": 61,
      "metadata": {
        "id": "uB5nB9zpj9-8"
      },
      "outputs": [],
      "source": [
        "%%script sqlite3 --column --header chinook.db\n",
        "SELECT *\n",
        "FROM employees\n",
        "WHERE Title = '%Agent'"
      ]
    },
    {
      "cell_type": "code",
      "execution_count": 62,
      "metadata": {
        "colab": {
          "base_uri": "https://localhost:8080/"
        },
        "id": "A7DY1qgNSMB-",
        "outputId": "b9598c82-e319-45bc-9929-c1c1f8ba23be"
      },
      "outputs": [
        {
          "output_type": "stream",
          "name": "stdout",
          "text": [
            "EmployeeId  LastName  FirstName  Title            ReportsTo  BirthDate            HireDate             Address               City      State  Country  PostalCode  Phone              Fax                Email                  \n",
            "----------  --------  ---------  ---------------  ---------  -------------------  -------------------  --------------------  --------  -----  -------  ----------  -----------------  -----------------  -----------------------\n",
            "1           Adams     Andrew     General Manager             1962-02-18 00:00:00  2002-08-14 00:00:00  11120 Jasper Ave NW   Edmonton  AB     Canada   T5K 2N1     +1 (780) 428-9482  +1 (780) 428-3457  andrew@chinookcorp.com \n",
            "2           Edwards   Nancy      Sales Manager    1          1958-12-08 00:00:00  2002-05-01 00:00:00  825 8 Ave SW          Calgary   AB     Canada   T2P 2T3     +1 (403) 262-3443  +1 (403) 262-3322  nancy@chinookcorp.com  \n",
            "6           Mitchell  Michael    IT Manager       1          1973-07-01 00:00:00  2003-10-17 00:00:00  5827 Bowness Road NW  Calgary   AB     Canada   T3B 0C5     +1 (403) 246-9887  +1 (403) 246-9899  michael@chinookcorp.com\n"
          ]
        }
      ],
      "source": [
        "%%script sqlite3 --column --header chinook.db\n",
        "SELECT *\n",
        "FROM employees\n",
        "WHERE Title LIKE '%manager'"
      ]
    },
    {
      "cell_type": "code",
      "execution_count": 63,
      "metadata": {
        "colab": {
          "base_uri": "https://localhost:8080/"
        },
        "id": "2GHNw-M_ky59",
        "outputId": "ea88a31a-adde-4748-a70b-8a3381f3992f"
      },
      "outputs": [
        {
          "output_type": "stream",
          "name": "stdout",
          "text": [
            "EmployeeId  FirstName  LastName\n",
            "----------  ---------  --------\n",
            "3           Jane       Peacock \n",
            "4           Margaret   Park    \n",
            "5           Steve      Johnson \n"
          ]
        }
      ],
      "source": [
        "%%script sqlite3 --column --header chinook.db\n",
        "SELECT EmployeeId, FirstName, LastName\n",
        "FROM Employees\n",
        "WHERE Title = 'Sales Support Agent';\n"
      ]
    },
    {
      "cell_type": "markdown",
      "metadata": {
        "id": "wLV5mgG-_8wR"
      },
      "source": [
        "5. Provide a query showing a unique list of billing countries from the Invoice table."
      ]
    },
    {
      "cell_type": "code",
      "execution_count": 64,
      "metadata": {
        "colab": {
          "base_uri": "https://localhost:8080/"
        },
        "id": "JizY55zCAOUU",
        "outputId": "74277668-5906-4ecf-fbb7-bdb1c473039c"
      },
      "outputs": [
        {
          "output_type": "stream",
          "name": "stdout",
          "text": [
            "InvoiceId  CustomerId  InvoiceDate          BillingAddress           BillingCity  BillingState  BillingCountry  BillingPostalCode  Total\n",
            "---------  ----------  -------------------  -----------------------  -----------  ------------  --------------  -----------------  -----\n",
            "1          2           2009-01-01 00:00:00  Theodor-Heuss-Straße 34  Stuttgart                  Germany         70174              1.98 \n",
            "2          4           2009-01-02 00:00:00  Ullevålsveien 14         Oslo                       Norway          0171               3.96 \n",
            "3          8           2009-01-03 00:00:00  Grétrystraat 63          Brussels                   Belgium         1000               5.94 \n",
            "4          14          2009-01-06 00:00:00  8210 111 ST NW           Edmonton     AB            Canada          T6G 2C7            8.91 \n",
            "5          23          2009-01-11 00:00:00  69 Salem Street          Boston       MA            USA             2113               13.86\n"
          ]
        }
      ],
      "source": [
        "%%script sqlite3 --column --header chinook.db\n",
        "SELECT *\n",
        "FROM invoices\n",
        "LIMIT 5"
      ]
    },
    {
      "cell_type": "code",
      "execution_count": 65,
      "metadata": {
        "colab": {
          "base_uri": "https://localhost:8080/"
        },
        "id": "AVPvdWsU_-cz",
        "outputId": "62ac1ef1-c6c8-4379-a4b7-ab5a9a8e6aa5"
      },
      "outputs": [
        {
          "output_type": "stream",
          "name": "stdout",
          "text": [
            "BillingCountry\n",
            "--------------\n",
            "Germany       \n",
            "Norway        \n",
            "Belgium       \n",
            "Canada        \n",
            "USA           \n",
            "France        \n",
            "Ireland       \n",
            "United Kingdom\n",
            "Australia     \n",
            "Chile         \n",
            "India         \n",
            "Brazil        \n",
            "Portugal      \n",
            "Netherlands   \n",
            "Spain         \n",
            "Sweden        \n",
            "Czech Republic\n",
            "Finland       \n",
            "Denmark       \n",
            "Italy         \n",
            "Poland        \n",
            "Austria       \n",
            "Hungary       \n",
            "Argentina     \n"
          ]
        }
      ],
      "source": [
        "%%script sqlite3 --column --header chinook.db\n",
        "SELECT DISTINCT BillingCountry\n",
        "FROM invoices"
      ]
    },
    {
      "cell_type": "markdown",
      "metadata": {
        "id": "7GdA8VejCJAL"
      },
      "source": [
        "Provide a query showing the invoices of customers who are from Brazil."
      ]
    },
    {
      "cell_type": "code",
      "execution_count": 66,
      "metadata": {
        "colab": {
          "base_uri": "https://localhost:8080/"
        },
        "id": "X_9S0MejCGjo",
        "outputId": "4d673405-309a-4c86-fa89-b0f3632a7d53"
      },
      "outputs": [
        {
          "output_type": "stream",
          "name": "stdout",
          "text": [
            "InvoiceId  CustomerId  InvoiceDate          BillingAddress                   BillingCity          BillingState  BillingCountry  BillingPostalCode  Total\n",
            "---------  ----------  -------------------  -------------------------------  -------------------  ------------  --------------  -----------------  -----\n",
            "25         10          2009-04-09 00:00:00  Rua Dr. Falcão Filho, 155        São Paulo            SP            Brazil          01007-010          8.91 \n",
            "34         12          2009-05-23 00:00:00  Praça Pio X, 119                 Rio de Janeiro       RJ            Brazil          20040-020          0.99 \n",
            "35         13          2009-06-05 00:00:00  Qe 7 Bloco G                     Brasília             DF            Brazil          71020-677          1.98 \n",
            "57         11          2009-09-06 00:00:00  Av. Paulista, 2022               São Paulo            SP            Brazil          01310-200          1.98 \n",
            "58         13          2009-09-07 00:00:00  Qe 7 Bloco G                     Brasília             DF            Brazil          71020-677          3.96 \n",
            "68         11          2009-10-17 00:00:00  Av. Paulista, 2022               São Paulo            SP            Brazil          01310-200          13.86\n",
            "80         13          2009-12-10 00:00:00  Qe 7 Bloco G                     Brasília             DF            Brazil          71020-677          5.94 \n",
            "98         1           2010-03-11 00:00:00  Av. Brigadeiro Faria Lima, 2170  São José dos Campos  SP            Brazil          12227-000          3.98 \n",
            "121        1           2010-06-13 00:00:00  Av. Brigadeiro Faria Lima, 2170  São José dos Campos  SP            Brazil          12227-000          3.96 \n",
            "123        11          2010-06-17 00:00:00  Av. Paulista, 2022               São Paulo            SP            Brazil          01310-200          8.91 \n",
            "132        13          2010-07-31 00:00:00  Qe 7 Bloco G                     Brasília             DF            Brazil          71020-677          0.99 \n",
            "143        1           2010-09-15 00:00:00  Av. Brigadeiro Faria Lima, 2170  São José dos Campos  SP            Brazil          12227-000          5.94 \n",
            "154        10          2010-11-14 00:00:00  Rua Dr. Falcão Filho, 155        São Paulo            SP            Brazil          01007-010          1.98 \n",
            "155        12          2010-11-14 00:00:00  Praça Pio X, 119                 Rio de Janeiro       RJ            Brazil          20040-020          1.98 \n",
            "166        12          2010-12-25 00:00:00  Praça Pio X, 119                 Rio de Janeiro       RJ            Brazil          20040-020          13.86\n",
            "177        10          2011-02-16 00:00:00  Rua Dr. Falcão Filho, 155        São Paulo            SP            Brazil          01007-010          3.96 \n",
            "195        1           2011-05-06 00:00:00  Av. Brigadeiro Faria Lima, 2170  São José dos Campos  SP            Brazil          12227-000          0.99 \n",
            "199        10          2011-05-21 00:00:00  Rua Dr. Falcão Filho, 155        São Paulo            SP            Brazil          01007-010          5.94 \n",
            "221        12          2011-08-25 00:00:00  Praça Pio X, 119                 Rio de Janeiro       RJ            Brazil          20040-020          8.91 \n",
            "251        10          2012-01-09 00:00:00  Rua Dr. Falcão Filho, 155        São Paulo            SP            Brazil          01007-010          0.99 \n",
            "252        11          2012-01-22 00:00:00  Av. Paulista, 2022               São Paulo            SP            Brazil          01310-200          1.98 \n",
            "253        13          2012-01-22 00:00:00  Qe 7 Bloco G                     Brasília             DF            Brazil          71020-677          1.98 \n",
            "264        13          2012-03-03 00:00:00  Qe 7 Bloco G                     Brasília             DF            Brazil          71020-677          13.86\n",
            "275        11          2012-04-25 00:00:00  Av. Paulista, 2022               São Paulo            SP            Brazil          01310-200          3.96 \n",
            "297        11          2012-07-28 00:00:00  Av. Paulista, 2022               São Paulo            SP            Brazil          01310-200          5.94 \n",
            "316        1           2012-10-27 00:00:00  Av. Brigadeiro Faria Lima, 2170  São José dos Campos  SP            Brazil          12227-000          1.98 \n",
            "319        13          2012-11-01 00:00:00  Qe 7 Bloco G                     Brasília             DF            Brazil          71020-677          8.91 \n",
            "327        1           2012-12-07 00:00:00  Av. Brigadeiro Faria Lima, 2170  São José dos Campos  SP            Brazil          12227-000          13.86\n",
            "349        11          2013-03-18 00:00:00  Av. Paulista, 2022               São Paulo            SP            Brazil          01310-200          0.99 \n",
            "350        12          2013-03-31 00:00:00  Praça Pio X, 119                 Rio de Janeiro       RJ            Brazil          20040-020          1.98 \n",
            "372        10          2013-07-02 00:00:00  Rua Dr. Falcão Filho, 155        São Paulo            SP            Brazil          01007-010          1.98 \n",
            "373        12          2013-07-03 00:00:00  Praça Pio X, 119                 Rio de Janeiro       RJ            Brazil          20040-020          3.96 \n",
            "382        1           2013-08-07 00:00:00  Av. Brigadeiro Faria Lima, 2170  São José dos Campos  SP            Brazil          12227-000          8.91 \n",
            "383        10          2013-08-12 00:00:00  Rua Dr. Falcão Filho, 155        São Paulo            SP            Brazil          01007-010          13.86\n",
            "395        12          2013-10-05 00:00:00  Praça Pio X, 119                 Rio de Janeiro       RJ            Brazil          20040-020          5.94 \n"
          ]
        }
      ],
      "source": [
        "%%script sqlite3 --column --header chinook.db\n",
        "SELECT *\n",
        "FROM invoices\n",
        "WHERE BillingCountry = 'Brazil'"
      ]
    },
    {
      "cell_type": "markdown",
      "metadata": {
        "id": "Ir1E2JAXCch7"
      },
      "source": [
        "Provide a query that shows the invoices associated with each sales agent. The resultant table should include the Sales Agent's full name."
      ]
    },
    {
      "cell_type": "code",
      "execution_count": 67,
      "metadata": {
        "colab": {
          "base_uri": "https://localhost:8080/"
        },
        "id": "mucNsM-ECfN6",
        "outputId": "3f044af0-2b80-4cf6-9454-51e10ba66fe1"
      },
      "outputs": [
        {
          "output_type": "stream",
          "name": "stdout",
          "text": [
            "InvoiceLineId  InvoiceId  TrackId  UnitPrice  Quantity\n",
            "-------------  ---------  -------  ---------  --------\n",
            "1              1          2        0.99       1       \n",
            "2              1          4        0.99       1       \n",
            "3              2          6        0.99       1       \n"
          ]
        }
      ],
      "source": [
        "%%script sqlite3 --column --header chinook.db\n",
        "SELECT *\n",
        "FROM invoice_items\n",
        "LIMIT 3"
      ]
    },
    {
      "cell_type": "code",
      "execution_count": 68,
      "metadata": {
        "colab": {
          "base_uri": "https://localhost:8080/"
        },
        "id": "WnrED_nRDcMe",
        "outputId": "b8669e40-1308-4de2-fba4-f2dfa05d4542"
      },
      "outputs": [
        {
          "output_type": "stream",
          "name": "stdout",
          "text": [
            "CustomerId  Title                FirstName  LastName  EmployeeId\n",
            "----------  -------------------  ---------  --------  ----------\n",
            "8           Sales Support Agent  Jane       Peacock   3         \n",
            "14          Sales Support Agent  Margaret   Park      4         \n",
            "23          Sales Support Agent  Steve      Johnson   5         \n"
          ]
        }
      ],
      "source": [
        "%%script sqlite3 --column --header chinook.db\n",
        "SELECT CustomerId, Title, FirstName, LastName, EmployeeId\n",
        "FROM invoices\n",
        "INNER JOIN employees on InvoiceId = EmployeeId\n",
        "WHERE Title = 'Sales Support Agent'\n",
        "LIMIT 5"
      ]
    },
    {
      "cell_type": "markdown",
      "metadata": {
        "id": "Ap3ktlE-MmqS"
      },
      "source": [
        "Provide a query that shows the Invoice Total, Customer name, Country and Sale Agent name for all invoices and customers."
      ]
    },
    {
      "cell_type": "code",
      "execution_count": 69,
      "metadata": {
        "colab": {
          "base_uri": "https://localhost:8080/"
        },
        "id": "sDuBnUrzNQio",
        "outputId": "a5d28c22-3ece-4011-d0d4-a63dc4301936"
      },
      "outputs": [
        {
          "output_type": "stream",
          "name": "stdout",
          "text": [
            "CustomerId  FirstName  LastName   Company                                           Address                          City                 State  Country  PostalCode  Phone               Fax                 Email                  SupportRepId\n",
            "----------  ---------  ---------  ------------------------------------------------  -------------------------------  -------------------  -----  -------  ----------  ------------------  ------------------  ---------------------  ------------\n",
            "1           Luís       Gonçalves  Embraer - Empresa Brasileira de Aeronáutica S.A.  Av. Brigadeiro Faria Lima, 2170  São José dos Campos  SP     Brazil   12227-000   +55 (12) 3923-5555  +55 (12) 3923-5566  luisg@embraer.com.br   3           \n",
            "2           Leonie     Köhler                                                       Theodor-Heuss-Straße 34          Stuttgart                   Germany  70174       +49 0711 2842222                        leonekohler@surfeu.de  5           \n",
            "3           François   Tremblay                                                     1498 rue Bélanger                Montréal             QC     Canada   H2G 1A7     +1 (514) 721-4711                       ftremblay@gmail.com    3           \n"
          ]
        }
      ],
      "source": [
        "%%script sqlite3 --column --header chinook.db\n",
        "SELECT *\n",
        "FROM customers\n",
        "LIMIT 3"
      ]
    },
    {
      "cell_type": "code",
      "execution_count": 70,
      "metadata": {
        "colab": {
          "base_uri": "https://localhost:8080/"
        },
        "id": "4IPooki0MnaT",
        "outputId": "808ae6ce-eb07-4051-a980-bdd64fd5fb84"
      },
      "outputs": [
        {
          "output_type": "stream",
          "name": "stdout",
          "text": [
            "InvoiceId  Total  BillingCountry  SupportRepId  FirstName  LastName  \n",
            "---------  -----  --------------  ------------  ---------  ----------\n",
            "1          1.98   Germany         3             Fynn       Zimmermann\n",
            "1          1.98   Germany         5             Hannah     Schneider \n",
            "1          1.98   Germany         5             Leonie     Köhler    \n",
            "1          1.98   Germany         3             Niklas     Schröder  \n",
            "2          3.96   Norway          4             Bjørn      Hansen    \n"
          ]
        }
      ],
      "source": [
        "%%script sqlite3 --column --header chinook.db\n",
        "SELECT InvoiceId, Total, BillingCountry, SupportRepId, FirstName,LastName\n",
        "FROM invoices\n",
        "INNER JOIN customers ON BillingCountry = Country\n",
        "LIMIT 5"
      ]
    },
    {
      "cell_type": "markdown",
      "metadata": {
        "id": "1XCi5RBBOzps"
      },
      "source": [
        "9. How many Invoices were there in 2009 and 2011? What are the respective total sales for each of those years?"
      ]
    },
    {
      "cell_type": "code",
      "execution_count": 71,
      "metadata": {
        "colab": {
          "base_uri": "https://localhost:8080/"
        },
        "id": "FbJUbUe2QR3T",
        "outputId": "844746fc-4f18-457b-a0b5-45c539566c20"
      },
      "outputs": [
        {
          "output_type": "stream",
          "name": "stdout",
          "text": [
            "year  res_total_sales\n",
            "----  ---------------\n",
            "2009  83             \n",
            "2010  83             \n",
            "2011  83             \n"
          ]
        }
      ],
      "source": [
        "%%script sqlite3 --column --header chinook.db\n",
        "SELECT\n",
        "    strftime('%Y', InvoiceDate) AS year,\n",
        "    COUNT(1) AS res_total_sales\n",
        "FROM\n",
        "    invoices\n",
        "WHERE\n",
        "    strftime('%Y', InvoiceDate) > '2008' AND strftime('%Y', InvoiceDate) < '2012'\n",
        "GROUP BY\n",
        "    year;"
      ]
    },
    {
      "cell_type": "code",
      "execution_count": 72,
      "metadata": {
        "id": "8ovWN3UnOy3g"
      },
      "outputs": [],
      "source": [
        "#%%script sqlite3 --column --header chinook.db\n",
        "#SELECT EXTRACT(YEAR FROM InvoiceDate) as year #COUNT(1) as res_total_sales\n",
        "#FROM invoices\n",
        "#WHERE year > 2009 and year < 2011"
      ]
    },
    {
      "cell_type": "markdown",
      "metadata": {
        "id": "H7kRRBmAR3_E"
      },
      "source": [
        "10. Looking at the InvoiceLine table, provide a query that COUNTs the number of line items for Invoice ID 37."
      ]
    },
    {
      "cell_type": "code",
      "execution_count": 73,
      "metadata": {
        "colab": {
          "base_uri": "https://localhost:8080/"
        },
        "id": "cZYKcjGGUg6S",
        "outputId": "04839974-39ba-47e3-ad75-5775d1b7241b"
      },
      "outputs": [
        {
          "output_type": "stream",
          "name": "stdout",
          "text": [
            "InvoiceId  CustomerId  InvoiceDate          BillingAddress   BillingCity  BillingState  BillingCountry  BillingPostalCode  Total\n",
            "---------  ----------  -------------------  ---------------  -----------  ------------  --------------  -----------------  -----\n",
            "37         17          2009-06-06 00:00:00  1 Microsoft Way  Redmond      WA            USA             98052-8300         3.96 \n"
          ]
        }
      ],
      "source": [
        "%%script sqlite3 --column --header chinook.db\n",
        "SELECT *\n",
        "FROM invoices\n",
        "WHERE invoiceId = 37"
      ]
    },
    {
      "cell_type": "code",
      "execution_count": 74,
      "metadata": {
        "colab": {
          "base_uri": "https://localhost:8080/"
        },
        "id": "2Wbp4LyFR73y",
        "outputId": "381ebd1d-fded-419e-bcd5-2d65ff9a5674"
      },
      "outputs": [
        {
          "output_type": "stream",
          "name": "stdout",
          "text": [
            "num_items\n",
            "---------\n",
            "4        \n"
          ]
        }
      ],
      "source": [
        "%%script sqlite3 --column --header chinook.db\n",
        "SELECT COUNT (1) AS num_items\n",
        "FROM invoice_items\n",
        "WHERE invoiceId = 37"
      ]
    },
    {
      "cell_type": "markdown",
      "metadata": {
        "id": "FLS7hEWdUviO"
      },
      "source": [
        "11. Looking at the InvoiceLine table, provide a query that COUNTs the number of line items for each Invoice. HINT: GROUP BY"
      ]
    },
    {
      "cell_type": "code",
      "execution_count": 75,
      "metadata": {
        "colab": {
          "base_uri": "https://localhost:8080/"
        },
        "id": "tOmBGTwaZqKG",
        "outputId": "3682c1b4-6cf1-4e30-cb9a-52e6ed47deaa"
      },
      "outputs": [
        {
          "output_type": "stream",
          "name": "stdout",
          "text": [
            "InvoiceLineId  InvoiceId  TrackId  UnitPrice  Quantity\n",
            "-------------  ---------  -------  ---------  --------\n",
            "1              1          2        0.99       1       \n",
            "2              1          4        0.99       1       \n",
            "3              2          6        0.99       1       \n"
          ]
        }
      ],
      "source": [
        "%%script sqlite3 --column --header chinook.db\n",
        "SELECT *\n",
        "FROM invoice_items\n",
        "limit 3"
      ]
    },
    {
      "cell_type": "code",
      "execution_count": 76,
      "metadata": {
        "colab": {
          "base_uri": "https://localhost:8080/"
        },
        "collapsed": true,
        "id": "4Q7VsiocUvPa",
        "jupyter": {
          "outputs_hidden": true
        },
        "outputId": "f43773b6-b307-4208-8027-3466de85ef9a"
      },
      "outputs": [
        {
          "output_type": "stream",
          "name": "stdout",
          "text": [
            "InvoiceLineId  num_line_items\n",
            "-------------  --------------\n",
            "1              2             \n",
            "3              4             \n",
            "7              6             \n",
            "13             9             \n",
            "22             14            \n",
            "36             1             \n",
            "37             2             \n",
            "39             2             \n",
            "41             4             \n",
            "45             6             \n",
            "51             9             \n",
            "60             14            \n",
            "74             1             \n",
            "75             2             \n",
            "77             2             \n",
            "79             4             \n",
            "83             6             \n",
            "89             9             \n",
            "98             14            \n",
            "112            1             \n",
            "113            2             \n",
            "115            2             \n",
            "117            4             \n",
            "121            6             \n",
            "127            9             \n",
            "136            14            \n",
            "150            1             \n",
            "151            2             \n",
            "153            2             \n",
            "155            4             \n",
            "159            6             \n",
            "165            9             \n",
            "174            14            \n",
            "188            1             \n",
            "189            2             \n",
            "191            2             \n",
            "193            4             \n",
            "197            6             \n",
            "203            9             \n",
            "212            14            \n",
            "226            1             \n",
            "227            2             \n",
            "229            2             \n",
            "231            4             \n",
            "235            6             \n",
            "241            9             \n",
            "250            14            \n",
            "264            1             \n",
            "265            2             \n",
            "267            2             \n",
            "269            4             \n",
            "273            6             \n",
            "279            9             \n",
            "288            14            \n",
            "302            1             \n",
            "303            2             \n",
            "305            2             \n",
            "307            4             \n",
            "311            6             \n",
            "317            9             \n",
            "326            14            \n",
            "340            1             \n",
            "341            2             \n",
            "343            2             \n",
            "345            4             \n",
            "349            6             \n",
            "355            9             \n",
            "364            14            \n",
            "378            1             \n",
            "379            2             \n",
            "381            2             \n",
            "383            4             \n",
            "387            6             \n",
            "393            9             \n",
            "402            14            \n",
            "416            1             \n",
            "417            2             \n",
            "419            2             \n",
            "421            4             \n",
            "425            6             \n",
            "431            9             \n",
            "440            14            \n",
            "454            1             \n",
            "455            2             \n",
            "457            2             \n",
            "459            4             \n",
            "463            6             \n",
            "469            9             \n",
            "478            14            \n",
            "492            1             \n",
            "493            2             \n",
            "495            2             \n",
            "497            4             \n",
            "501            6             \n",
            "507            9             \n",
            "516            14            \n",
            "530            1             \n",
            "531            2             \n",
            "533            2             \n",
            "535            4             \n",
            "539            6             \n",
            "545            9             \n",
            "554            14            \n",
            "568            1             \n",
            "569            2             \n",
            "571            2             \n",
            "573            4             \n",
            "577            6             \n",
            "583            9             \n",
            "592            14            \n",
            "606            1             \n",
            "607            2             \n",
            "609            2             \n",
            "611            4             \n",
            "615            6             \n",
            "621            9             \n",
            "630            14            \n",
            "644            1             \n",
            "645            2             \n",
            "647            2             \n",
            "649            4             \n",
            "653            6             \n",
            "659            9             \n",
            "668            14            \n",
            "682            1             \n",
            "683            2             \n",
            "685            2             \n",
            "687            4             \n",
            "691            6             \n",
            "697            9             \n",
            "706            14            \n",
            "720            1             \n",
            "721            2             \n",
            "723            2             \n",
            "725            4             \n",
            "729            6             \n",
            "735            9             \n",
            "744            14            \n",
            "758            1             \n",
            "759            2             \n",
            "761            2             \n",
            "763            4             \n",
            "767            6             \n",
            "773            9             \n",
            "782            14            \n",
            "796            1             \n",
            "797            2             \n",
            "799            2             \n",
            "801            4             \n",
            "805            6             \n",
            "811            9             \n",
            "820            14            \n",
            "834            1             \n",
            "835            2             \n",
            "837            2             \n",
            "839            4             \n",
            "843            6             \n",
            "849            9             \n",
            "858            14            \n",
            "872            1             \n",
            "873            2             \n",
            "875            2             \n",
            "877            4             \n",
            "881            6             \n",
            "887            9             \n",
            "896            14            \n",
            "910            1             \n",
            "911            2             \n",
            "913            2             \n",
            "915            4             \n",
            "919            6             \n",
            "925            9             \n",
            "934            14            \n",
            "948            1             \n",
            "949            2             \n",
            "951            2             \n",
            "953            4             \n",
            "957            6             \n",
            "963            9             \n",
            "972            14            \n",
            "986            1             \n",
            "987            2             \n",
            "989            2             \n",
            "991            4             \n",
            "995            6             \n",
            "1001           9             \n",
            "1010           14            \n",
            "1024           1             \n",
            "1025           2             \n",
            "1027           2             \n",
            "1029           4             \n",
            "1033           6             \n",
            "1039           9             \n",
            "1048           14            \n",
            "1062           1             \n",
            "1063           2             \n",
            "1065           2             \n",
            "1067           4             \n",
            "1071           6             \n",
            "1077           9             \n",
            "1086           14            \n",
            "1100           1             \n",
            "1101           2             \n",
            "1103           2             \n",
            "1105           4             \n",
            "1109           6             \n",
            "1115           9             \n",
            "1124           14            \n",
            "1138           1             \n",
            "1139           2             \n",
            "1141           2             \n",
            "1143           4             \n",
            "1147           6             \n",
            "1153           9             \n",
            "1162           14            \n",
            "1176           1             \n",
            "1177           2             \n",
            "1179           2             \n",
            "1181           4             \n",
            "1185           6             \n",
            "1191           9             \n",
            "1200           14            \n",
            "1214           1             \n",
            "1215           2             \n",
            "1217           2             \n",
            "1219           4             \n",
            "1223           6             \n",
            "1229           9             \n",
            "1238           14            \n",
            "1252           1             \n",
            "1253           2             \n",
            "1255           2             \n",
            "1257           4             \n",
            "1261           6             \n",
            "1267           9             \n",
            "1276           14            \n",
            "1290           1             \n",
            "1291           2             \n",
            "1293           2             \n",
            "1295           4             \n",
            "1299           6             \n",
            "1305           9             \n",
            "1314           14            \n",
            "1328           1             \n",
            "1329           2             \n",
            "1331           2             \n",
            "1333           4             \n",
            "1337           6             \n",
            "1343           9             \n",
            "1352           14            \n",
            "1366           1             \n",
            "1367           2             \n",
            "1369           2             \n",
            "1371           4             \n",
            "1375           6             \n",
            "1381           9             \n",
            "1390           14            \n",
            "1404           1             \n",
            "1405           2             \n",
            "1407           2             \n",
            "1409           4             \n",
            "1413           6             \n",
            "1419           9             \n",
            "1428           14            \n",
            "1442           1             \n",
            "1443           2             \n",
            "1445           2             \n",
            "1447           4             \n",
            "1451           6             \n",
            "1457           9             \n",
            "1466           14            \n",
            "1480           1             \n",
            "1481           2             \n",
            "1483           2             \n",
            "1485           4             \n",
            "1489           6             \n",
            "1495           9             \n",
            "1504           14            \n",
            "1518           1             \n",
            "1519           2             \n",
            "1521           2             \n",
            "1523           4             \n",
            "1527           6             \n",
            "1533           9             \n",
            "1542           14            \n",
            "1556           1             \n",
            "1557           2             \n",
            "1559           2             \n",
            "1561           4             \n",
            "1565           6             \n",
            "1571           9             \n",
            "1580           14            \n",
            "1594           1             \n",
            "1595           2             \n",
            "1597           2             \n",
            "1599           4             \n",
            "1603           6             \n",
            "1609           9             \n",
            "1618           14            \n",
            "1632           1             \n",
            "1633           2             \n",
            "1635           2             \n",
            "1637           4             \n",
            "1641           6             \n",
            "1647           9             \n",
            "1656           14            \n",
            "1670           1             \n",
            "1671           2             \n",
            "1673           2             \n",
            "1675           4             \n",
            "1679           6             \n",
            "1685           9             \n",
            "1694           14            \n",
            "1708           1             \n",
            "1709           2             \n",
            "1711           2             \n",
            "1713           4             \n",
            "1717           6             \n",
            "1723           9             \n",
            "1732           14            \n",
            "1746           1             \n",
            "1747           2             \n",
            "1749           2             \n",
            "1751           4             \n",
            "1755           6             \n",
            "1761           9             \n",
            "1770           14            \n",
            "1784           1             \n",
            "1785           2             \n",
            "1787           2             \n",
            "1789           4             \n",
            "1793           6             \n",
            "1799           9             \n",
            "1808           14            \n",
            "1822           1             \n",
            "1823           2             \n",
            "1825           2             \n",
            "1827           4             \n",
            "1831           6             \n",
            "1837           9             \n",
            "1846           14            \n",
            "1860           1             \n",
            "1861           2             \n",
            "1863           2             \n",
            "1865           4             \n",
            "1869           6             \n",
            "1875           9             \n",
            "1884           14            \n",
            "1898           1             \n",
            "1899           2             \n",
            "1901           2             \n",
            "1903           4             \n",
            "1907           6             \n",
            "1913           9             \n",
            "1922           14            \n",
            "1936           1             \n",
            "1937           2             \n",
            "1939           2             \n",
            "1941           4             \n",
            "1945           6             \n",
            "1951           9             \n",
            "1960           14            \n",
            "1974           1             \n",
            "1975           2             \n",
            "1977           2             \n",
            "1979           4             \n",
            "1983           6             \n",
            "1989           9             \n",
            "1998           14            \n",
            "2012           1             \n",
            "2013           2             \n",
            "2015           2             \n",
            "2017           4             \n",
            "2021           6             \n",
            "2027           9             \n",
            "2036           14            \n",
            "2050           1             \n",
            "2051           2             \n",
            "2053           2             \n",
            "2055           4             \n",
            "2059           6             \n",
            "2065           9             \n",
            "2074           14            \n",
            "2088           1             \n",
            "2089           2             \n",
            "2091           2             \n",
            "2093           4             \n",
            "2097           6             \n",
            "2103           9             \n",
            "2112           14            \n",
            "2126           1             \n",
            "2127           2             \n",
            "2129           2             \n",
            "2131           4             \n",
            "2135           6             \n",
            "2141           9             \n",
            "2150           14            \n",
            "2164           1             \n",
            "2165           2             \n",
            "2167           2             \n",
            "2169           4             \n",
            "2173           6             \n",
            "2179           9             \n",
            "2188           14            \n",
            "2202           1             \n",
            "2203           2             \n",
            "2205           2             \n",
            "2207           4             \n",
            "2211           6             \n",
            "2217           9             \n",
            "2226           14            \n",
            "2240           1             \n"
          ]
        }
      ],
      "source": [
        "%%script sqlite3 --column --header chinook.db\n",
        "SELECT InvoiceLineId, COUNT(1) as num_line_items\n",
        "FROM invoice_items\n",
        "GROUP BY invoiceid"
      ]
    },
    {
      "cell_type": "markdown",
      "metadata": {
        "id": "WayZnGhtbaPc"
      },
      "source": [
        "19. Which sales agent made the most in sales in 2009?"
      ]
    },
    {
      "cell_type": "code",
      "execution_count": 77,
      "metadata": {
        "colab": {
          "base_uri": "https://localhost:8080/"
        },
        "id": "wbzAbjxBbZqr",
        "outputId": "b4a50f2f-9674-4e35-ec70-368fa4f7fb32"
      },
      "outputs": [
        {
          "output_type": "stream",
          "name": "stdout",
          "text": [
            "GenreId  Name              \n",
            "-------  ------------------\n",
            "1        Rock              \n",
            "2        Jazz              \n",
            "3        Metal             \n",
            "4        Alternative & Punk\n",
            "5        Rock And Roll     \n"
          ]
        }
      ],
      "source": [
        "%%script sqlite3 --column --header chinook.db\n",
        "SELECT *\n",
        "FROM genres\n",
        "LIMIT 5"
      ]
    },
    {
      "cell_type": "code",
      "execution_count": 78,
      "metadata": {
        "colab": {
          "base_uri": "https://localhost:8080/"
        },
        "id": "EHcViXESfKs-",
        "outputId": "fb910292-0e10-4b34-c845-1ac0c05c90f4"
      },
      "outputs": [
        {
          "output_type": "stream",
          "name": "stdout",
          "text": [
            "MediaTypeId  Name                       \n",
            "-----------  ---------------------------\n",
            "1            MPEG audio file            \n",
            "2            Protected AAC audio file   \n",
            "3            Protected MPEG-4 video file\n",
            "4            Purchased AAC audio file   \n",
            "5            AAC audio file             \n"
          ]
        }
      ],
      "source": [
        "%%script sqlite3 --column --header chinook.db\n",
        "SELECT *\n",
        "FROM media_types\n",
        "LIMIT 5"
      ]
    },
    {
      "cell_type": "markdown",
      "metadata": {
        "id": "B0fEclQOmGL9"
      },
      "source": [
        "18. Provide a query that shows total sales made by each sales agent."
      ]
    },
    {
      "cell_type": "code",
      "execution_count": 79,
      "metadata": {
        "colab": {
          "base_uri": "https://localhost:8080/"
        },
        "id": "s1fBGRjAkSLu",
        "outputId": "759ba17f-6ac9-4db9-d5e8-495181f53d95"
      },
      "outputs": [
        {
          "output_type": "stream",
          "name": "stdout",
          "text": [
            "EmployeeId  SalesAgent     TotalSales      \n",
            "----------  -------------  ----------------\n",
            "3           Jane Peacock   833.040000000001\n",
            "4           Margaret Park  775.400000000001\n",
            "5           Steve Johnson  720.160000000001\n"
          ]
        }
      ],
      "source": [
        "%%script sqlite3 --column --header chinook.db\n",
        "#Chat assisted\n",
        "SELECT\n",
        "    e.EmployeeId,\n",
        "    e.FirstName || ' ' || e.LastName AS SalesAgent,\n",
        "    SUM(i.Total) AS TotalSales\n",
        "FROM\n",
        "    Employees e\n",
        "JOIN\n",
        "    Customers c ON e.EmployeeId = c.SupportRepId\n",
        "JOIN\n",
        "    Invoices i ON c.CustomerId = i.CustomerId\n",
        "WHERE\n",
        "    e.Title = 'Sales Support Agent'\n",
        "GROUP BY\n",
        "    e.EmployeeId, SalesAgent\n",
        "ORDER BY\n",
        "    TotalSales DESC;\n"
      ]
    },
    {
      "cell_type": "markdown",
      "metadata": {
        "id": "sQUfz3ZaMrL8"
      },
      "source": [
        "19. Which sales agent made the most in sales in 2009?"
      ]
    },
    {
      "cell_type": "code",
      "execution_count": 80,
      "metadata": {
        "colab": {
          "base_uri": "https://localhost:8080/"
        },
        "id": "xV3nUby8MqFU",
        "outputId": "79c30147-9456-480d-ce9a-ff5606f124f0"
      },
      "outputs": [
        {
          "output_type": "stream",
          "name": "stdout",
          "text": [
            "EmployeeId  SalesAgent     TotalSales\n",
            "----------  -------------  ----------\n",
            "5           Steve Johnson  164.34    \n"
          ]
        }
      ],
      "source": [
        "%%script sqlite3 --column --header chinook.db\n",
        "SELECT\n",
        "    e.EmployeeId,\n",
        "    e.FirstName || ' ' || e.LastName AS SalesAgent,\n",
        "    SUM(i.Total) AS TotalSales\n",
        "FROM\n",
        "    Employees e\n",
        "JOIN\n",
        "    Customers c ON e.EmployeeId = c.SupportRepId\n",
        "JOIN\n",
        "    Invoices i ON c.CustomerId = i.CustomerId\n",
        "WHERE\n",
        "    e.Title = 'Sales Support Agent'\n",
        "    AND strftime('%Y', i.InvoiceDate) = '2009'\n",
        "GROUP BY\n",
        "    e.EmployeeId, SalesAgent\n",
        "ORDER BY\n",
        "    TotalSales DESC\n",
        "LIMIT 1;\n",
        "\n"
      ]
    },
    {
      "cell_type": "markdown",
      "metadata": {
        "id": "s0grO1GDNM8m"
      },
      "source": [
        "21. Which sales agent made the most in sales over all?"
      ]
    },
    {
      "cell_type": "code",
      "execution_count": 81,
      "metadata": {
        "colab": {
          "base_uri": "https://localhost:8080/"
        },
        "id": "Rj87OInTNP1I",
        "outputId": "e2c34888-e4ec-4141-df16-9826b0ee6cfd"
      },
      "outputs": [
        {
          "output_type": "stream",
          "name": "stdout",
          "text": [
            "EmployeeId  SalesAgent    TotalSales      \n",
            "----------  ------------  ----------------\n",
            "3           Jane Peacock  833.040000000001\n"
          ]
        }
      ],
      "source": [
        "%%script sqlite3 --column --header chinook.db\n",
        "SELECT\n",
        "    e.EmployeeId,\n",
        "    e.FirstName || ' ' || e.LastName AS SalesAgent,\n",
        "    SUM(i.Total) AS TotalSales\n",
        "FROM\n",
        "    Employees e\n",
        "JOIN\n",
        "    Customers c ON e.EmployeeId = c.SupportRepId\n",
        "JOIN\n",
        "    Invoices i ON c.CustomerId = i.CustomerId\n",
        "WHERE\n",
        "    e.Title = 'Sales Support Agent'\n",
        "GROUP BY\n",
        "    e.EmployeeId, SalesAgent\n",
        "ORDER BY\n",
        "    TotalSales DESC\n",
        "LIMIT 1;\n"
      ]
    },
    {
      "cell_type": "code",
      "execution_count": 82,
      "metadata": {
        "colab": {
          "base_uri": "https://localhost:8080/"
        },
        "id": "hdmcN35-TVj8",
        "outputId": "342095ed-f569-41c2-dcb8-ee406f5c0854"
      },
      "outputs": [
        {
          "output_type": "stream",
          "name": "stdout",
          "text": [
            "InvoiceId  CustomerId  InvoiceDate          Total\n",
            "---------  ----------  -------------------  -----\n",
            "5          23          2009-01-11 00:00:00  13.86\n",
            "6          37          2009-01-19 00:00:00  0.99 \n",
            "7          38          2009-02-01 00:00:00  1.98 \n",
            "8          40          2009-02-01 00:00:00  1.98 \n",
            "9          42          2009-02-02 00:00:00  3.96 \n",
            "10         46          2009-02-03 00:00:00  5.94 \n"
          ]
        }
      ],
      "source": [
        "%%script sqlite3 --column --header chinook.db\n",
        "SELECT\n",
        "    InvoiceId,\n",
        "    CustomerId,\n",
        "    InvoiceDate,\n",
        "    Total\n",
        "FROM\n",
        "    Invoices\n",
        "WHERE\n",
        "    InvoiceId BETWEEN 5 AND 10;\n"
      ]
    },
    {
      "cell_type": "markdown",
      "metadata": {
        "id": "ntL8dHJT57K8"
      },
      "source": [
        "## Make some plots\n",
        "\n",
        "Make some cool plots to go with your data. Write SQL queries to get ONLY the information you need for each plot. (Don't pull ALL the data and then just plot a few columns.)\n",
        "\n"
      ]
    },
    {
      "cell_type": "markdown",
      "metadata": {
        "id": "aPknLpKiZc3X"
      },
      "source": [
        "Plotting Total Sales across countries"
      ]
    },
    {
      "cell_type": "code",
      "execution_count": 83,
      "metadata": {
        "colab": {
          "base_uri": "https://localhost:8080/",
          "height": 661
        },
        "id": "c_lBNM0CU488",
        "outputId": "38bf67cd-f2c2-41fc-c54b-f1ab6bf35e17"
      },
      "outputs": [
        {
          "output_type": "display_data",
          "data": {
            "text/plain": [
              "<Figure size 1000x600 with 1 Axes>"
            ],
            "image/png": "[encoded data removed]"
          },
          "metadata": {}
        }
      ],
      "source": [
        "#Compliments of Chat\n",
        "# Connect to SQLite database\n",
        "conn = sqlite3.connect('chinook.db')\n",
        "\n",
        "# Execute the query to get total sales per country\n",
        "query = \"\"\"\n",
        "SELECT\n",
        "    c.Country,\n",
        "    SUM(i.Total) AS TotalSales\n",
        "FROM\n",
        "    Customers c\n",
        "JOIN\n",
        "    Invoices i ON c.CustomerId = i.CustomerId\n",
        "GROUP BY\n",
        "    c.Country\n",
        "ORDER BY\n",
        "    TotalSales DESC;\n",
        "\"\"\"\n",
        "# Load the data into a pandas DataFrame\n",
        "df = pd.read_sql_query(query, conn)\n",
        "\n",
        "# Close the connection\n",
        "conn.close()\n",
        "\n",
        "# Plot the data\n",
        "plt.figure(figsize=(10, 6))\n",
        "plt.bar(df['Country'], df['TotalSales'])\n",
        "plt.xlabel('Country')\n",
        "plt.ylabel('Total Sales')\n",
        "plt.title('Total Sales per Country')\n",
        "plt.xticks(rotation=90)  # Rotate country names for better readability\n",
        "plt.show()\n"
      ]
    },
    {
      "cell_type": "code",
      "execution_count": 84,
      "metadata": {
        "colab": {
          "base_uri": "https://localhost:8080/",
          "height": 909
        },
        "id": "QWAF-FYEMS9Q",
        "outputId": "b3f87d99-f9d7-493b-b9d2-82988ae9461a"
      },
      "outputs": [
        {
          "output_type": "stream",
          "name": "stderr",
          "text": [
            "<ipython-input-84-b1c1a01d0e12>:27: FutureWarning: \n",
            "\n",
            "Passing `palette` without assigning `hue` is deprecated and will be removed in v0.14.0. Assign the `y` variable to `hue` and set `legend=False` for the same effect.\n",
            "\n",
            "  sns.barplot(x='NumberOfTracks', y='Genre', data=df, palette='coolwarm')\n"
          ]
        },
        {
          "output_type": "display_data",
          "data": {
            "text/plain": [
              "<Figure size 1400x1000 with 1 Axes>"
            ],
            "image/png": "[encoded data removed]"
          },
          "metadata": {}
        }
      ],
      "source": [
        "import seaborn as sns\n",
        "\n",
        "# Connect to the database\n",
        "conn = sqlite3.connect('chinook.db')\n",
        "\n",
        "# Execute the query and load data into a DataFrame\n",
        "query = \"\"\"\n",
        "SELECT\n",
        "    g.Name AS Genre,\n",
        "    COUNT(t.TrackId) AS NumberOfTracks\n",
        "FROM\n",
        "    Tracks t\n",
        "JOIN\n",
        "    Genres g ON t.GenreId = g.GenreId\n",
        "GROUP BY\n",
        "    g.Name\n",
        "ORDER BY\n",
        "    NumberOfTracks DESC;\n",
        "\"\"\"\n",
        "df = pd.read_sql_query(query, conn)\n",
        "\n",
        "# Close the connection\n",
        "conn.close()\n",
        "\n",
        "# Plot the data\n",
        "plt.figure(figsize=(14, 10))\n",
        "sns.barplot(x='NumberOfTracks', y='Genre', data=df, palette='coolwarm')\n",
        "plt.title('Number of Tracks per Genre')\n",
        "plt.xlabel('Number of Tracks')\n",
        "plt.ylabel('Genre')\n",
        "plt.show()\n"
      ]
    },
    {
      "cell_type": "markdown",
      "source": [
        "https://slidesgo.com/editor/share/9c623a63-857d-4ca8-a07f-390579223bf2#rs=link"
      ],
      "metadata": {
        "id": "lE1jF6Hc00CJ"
      }
    },
    {
      "cell_type": "markdown",
      "metadata": {
        "id": "H6QrBn3n58mU"
      },
      "source": [
        "## EXTRA CREDIT:\n",
        "* Use a CTE\n",
        "* Use a query that joins two or more tables.\n",
        "* Make a model to see if you can predict something\n",
        "* Come up with something else cool to do with your data\n"
      ]
    }
  ],
  "metadata": {
    "colab": {
      "provenance": [],
      "include_colab_link": true
    },
    "kernelspec": {
      "display_name": "Python 3 (ipykernel)",
      "language": "python",
      "name": "python3"
    },
    "language_info": {
      "codemirror_mode": {
        "name": "ipython",
        "version": 3
      },
      "file_extension": ".py",
      "mimetype": "text/x-python",
      "name": "python",
      "nbconvert_exporter": "python",
      "pygments_lexer": "ipython3",
      "version": "3.12.3"
    }
  },
  "nbformat": 4,
  "nbformat_minor": 0
}
